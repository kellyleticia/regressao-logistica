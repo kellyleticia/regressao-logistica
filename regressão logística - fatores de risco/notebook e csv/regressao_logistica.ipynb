{
 "cells": [
  {
   "cell_type": "markdown",
   "metadata": {},
   "source": [
    "*Regressão logística - fatores de risco do câncer de colo de útero.*"
   ]
  },
  {
   "cell_type": "markdown",
   "metadata": {},
   "source": [
    "Importando as bibliotecas necessárias:"
   ]
  },
  {
   "cell_type": "code",
   "execution_count": 164,
   "metadata": {},
   "outputs": [],
   "source": [
    "import pandas as pd\n",
    "import numpy as np\n",
    "from sklearn.linear_model import LogisticRegression\n",
    "from sklearn.model_selection import train_test_split\n",
    "from sklearn.metrics import confusion_matrix\n",
    "from sklearn.metrics import accuracy_score\n",
    "from sklearn.metrics import f1_score\n",
    "from sklearn.metrics import precision_score\n",
    "from sklearn.metrics import recall_score"
   ]
  },
  {
   "cell_type": "markdown",
   "metadata": {},
   "source": [
    "Lendo o arquivo csv:\n",
    "(csv obtido do site https://archive.ics.uci.edu/ml/datasets/Cervical+cancer+%28Risk+Factors%29)"
   ]
  },
  {
   "cell_type": "code",
   "execution_count": 165,
   "metadata": {},
   "outputs": [],
   "source": [
    "diretorio = 'risk_factors_cervical_cancer.csv' \n",
    "arquivo = pd.read_csv(diretorio)"
   ]
  },
  {
   "cell_type": "markdown",
   "metadata": {},
   "source": [
    "Separando o arquivo em uma variável que recebe todas as colunas exceto a coluna \"Biopsy\":"
   ]
  },
  {
   "cell_type": "code",
   "execution_count": 166,
   "metadata": {},
   "outputs": [],
   "source": [
    "coluna = \"Biopsy\"\n",
    "arquivo_sem_biopsia = arquivo.loc[:, arquivo.columns != coluna]"
   ]
  },
  {
   "cell_type": "markdown",
   "metadata": {},
   "source": [
    "Removendo os pontos de interrogação do arquivo:"
   ]
  },
  {
   "cell_type": "code",
   "execution_count": 167,
   "metadata": {},
   "outputs": [],
   "source": [
    "arquivo_sem_biopsia = arquivo_sem_biopsia.drop(columns=['STDs: Time since first diagnosis', 'STDs: Time since last diagnosis'], axis=1)\n",
    "arquivo_sem_biopsia = arquivo_sem_biopsia.replace('?', np.nan)\n",
    "arquivo_sem_biopsia = arquivo_sem_biopsia.apply(pd.to_numeric)\n",
    "for column in arquivo_sem_biopsia.columns:\n",
    "    arquivo_sem_biopsia[column].fillna(arquivo_sem_biopsia[column].mode()[0], inplace=True)"
   ]
  },
  {
   "cell_type": "markdown",
   "metadata": {},
   "source": [
    "Definindo os valores de x e de y:"
   ]
  },
  {
   "cell_type": "code",
   "execution_count": 168,
   "metadata": {},
   "outputs": [],
   "source": [
    "y = arquivo['Biopsy'].values\n",
    "x = arquivo_sem_biopsia.values.tolist()"
   ]
  },
  {
   "cell_type": "markdown",
   "metadata": {},
   "source": [
    "Definindo os treinos e os testes:"
   ]
  },
  {
   "cell_type": "code",
   "execution_count": 169,
   "metadata": {},
   "outputs": [],
   "source": [
    "x_treino, x_teste, y_treino, y_teste = train_test_split(x, y, test_size = 0.2, random_state = 42)"
   ]
  },
  {
   "cell_type": "markdown",
   "metadata": {},
   "source": [
    "Fazendo a regressão logística e definindo os valores de previsão do y em relação ao x teste:"
   ]
  },
  {
   "cell_type": "code",
   "execution_count": 170,
   "metadata": {},
   "outputs": [],
   "source": [
    "regressor = LogisticRegression(max_iter=500000)\n",
    "regressor.fit(x_treino,y_treino)\n",
    "y_prev = regressor.predict(x_teste)"
   ]
  },
  {
   "cell_type": "markdown",
   "metadata": {},
   "source": [
    "Obtendo a matriz de confusão, que possibilita distinguir e classificar os valores reais e previstos do modelo:"
   ]
  },
  {
   "cell_type": "code",
   "execution_count": 171,
   "metadata": {},
   "outputs": [
    {
     "name": "stdout",
     "output_type": "stream",
     "text": [
      "matriz de confusão: [[157   4]\n",
      " [  4   7]]\n",
      "\n",
      "na linha 0 coluna 0 ([0][0]), encontram-se os valores dos verdadeiros negativos (VN).\n",
      "em [0][1] encontram-se os valores dos falsos positivos (FP).\n",
      "em [1][0] encontram-se os valores dos falsos negativos (FN).\n",
      "em [1][1] encontram-se os valores dos verdadeiros positivos (VP).\n"
     ]
    }
   ],
   "source": [
    "print(f\"matriz de confusão: {confusion_matrix(y_teste, y_prev)}\")\n",
    "print(\"\\nna linha 0 coluna 0 ([0][0]), encontram-se os valores dos verdadeiros negativos (VN).\")\n",
    "print(\"em [0][1] encontram-se os valores dos falsos positivos (FP).\")\n",
    "print(\"em [1][0] encontram-se os valores dos falsos negativos (FN).\")\n",
    "print(\"em [1][1] encontram-se os valores dos verdadeiros positivos (VP).\")"
   ]
  },
  {
   "cell_type": "markdown",
   "metadata": {},
   "source": [
    "Agora, avaliando o modelo usando as seguintes métricas:"
   ]
  },
  {
   "cell_type": "code",
   "execution_count": 172,
   "metadata": {},
   "outputs": [
    {
     "name": "stdout",
     "output_type": "stream",
     "text": [
      "acurácia: 0.9534883720930233\n",
      "acurácia = VP+VN/VN+FN+FP+VP\n",
      "\n",
      "f1 score: 0.6363636363636364\n",
      "f1 score = 2 / (1 / precisão + 1 / recall)\n",
      "\n",
      "precisão: 0.6363636363636364\n",
      "precisão = VP/VP+FP\n",
      "\n",
      "recall: 0.6363636363636364\n",
      "recall = VP/VP+FN\n"
     ]
    }
   ],
   "source": [
    "print(f\"acurácia: {accuracy_score(y_teste, y_prev)}\")\n",
    "print(\"acurácia = VP+VN/(VN+FN+FP+VP)\")\n",
    "print(f\"\\nf1 score: {f1_score(y_teste, y_prev)}\")\n",
    "print(\"f1 score = 2 / (1 / precisão + 1 / recall)\")\n",
    "print(f\"\\nprecisão: {precision_score(y_teste, y_prev)}\")\n",
    "print(\"precisão = VP/(VP+FP)\")\n",
    "print(f\"\\nrecall: {recall_score(y_teste, y_prev)}\")\n",
    "print(\"recall = VP/(VP+FN)\")"
   ]
  },
  {
   "cell_type": "markdown",
   "metadata": {},
   "source": [
    "Estimando as probabilidades das previsões serem 0 (na primeira coluna) e de serem 1 (na segunda coluna):"
   ]
  },
  {
   "cell_type": "code",
   "execution_count": 173,
   "metadata": {},
   "outputs": [],
   "source": [
    "y_prev = regressor.predict_proba(x_teste)"
   ]
  },
  {
   "cell_type": "markdown",
   "metadata": {},
   "source": [
    "Definindo os valores do threshold:"
   ]
  },
  {
   "cell_type": "code",
   "execution_count": 174,
   "metadata": {},
   "outputs": [],
   "source": [
    "t1 = 0.97\n",
    "t2 = 0.98\n",
    "t3 = 0.99\n",
    "t4 = 0.90\n",
    "t5 = 0.80"
   ]
  },
  {
   "cell_type": "markdown",
   "metadata": {},
   "source": [
    "Fazendo uma nova previsão em relação às probabilidades do y_prev e do valor do threshold:"
   ]
  },
  {
   "cell_type": "code",
   "execution_count": 175,
   "metadata": {},
   "outputs": [],
   "source": [
    "def previsao(y_prev, t1):\n",
    "    c = []\n",
    "    for x in range(len(y_prev)):\n",
    "        if y_prev[x][0] >= t1:\n",
    "            h = 0\n",
    "        else:\n",
    "            h = 1\n",
    "        c.append(h)\n",
    "    return c  "
   ]
  },
  {
   "cell_type": "markdown",
   "metadata": {},
   "source": [
    "Obtendo a matriz de confusão e as métricas de avaliação quando o threshold é igual à 0.97:"
   ]
  },
  {
   "cell_type": "code",
   "execution_count": 176,
   "metadata": {},
   "outputs": [
    {
     "name": "stdout",
     "output_type": "stream",
     "text": [
      "matriz de confusão: [[143  18]\n",
      " [  1  10]]\n",
      "acurácia: 0.8895348837209303\n",
      "f1 score: 0.5128205128205129\n",
      "precisão: 0.35714285714285715\n",
      "recall: 0.9090909090909091\n"
     ]
    }
   ],
   "source": [
    "y_prev2 = previsao(y_prev, t1)        \n",
    "print(f\"matriz de confusão: {confusion_matrix(y_teste, y_prev2)}\")\n",
    "print(f\"acurácia: {accuracy_score(y_teste, y_prev2)}\")\n",
    "print(f\"f1 score: {f1_score(y_teste, y_prev2)}\")\n",
    "print(f\"precisão: {precision_score(y_teste, y_prev2)}\")\n",
    "print(f\"recall: {recall_score(y_teste, y_prev2)}\")"
   ]
  },
  {
   "cell_type": "markdown",
   "metadata": {},
   "source": [
    "Obtendo a matriz de confusão e as métricas de avaliação quando o threshold é igual à 0.98:"
   ]
  },
  {
   "cell_type": "code",
   "execution_count": 177,
   "metadata": {},
   "outputs": [
    {
     "name": "stdout",
     "output_type": "stream",
     "text": [
      "matriz de confusão: [[130  31]\n",
      " [  1  10]]\n",
      "acurácia: 0.813953488372093\n",
      "f1 score: 0.38461538461538464\n",
      "precisão: 0.24390243902439024\n",
      "recall: 0.9090909090909091\n"
     ]
    }
   ],
   "source": [
    "y_prev3 = previsao(y_prev, t2)        \n",
    "print(f\"matriz de confusão: {confusion_matrix(y_teste, y_prev3)}\")\n",
    "print(f\"acurácia: {accuracy_score(y_teste, y_prev3)}\")\n",
    "print(f\"f1 score: {f1_score(y_teste, y_prev3)}\")\n",
    "print(f\"precisão: {precision_score(y_teste, y_prev3)}\")\n",
    "print(f\"recall: {recall_score(y_teste, y_prev3)}\")"
   ]
  },
  {
   "cell_type": "markdown",
   "metadata": {},
   "source": [
    "Obtendo a matriz de confusão e as métricas de avaliação quando o threshold é igual à 0.99:"
   ]
  },
  {
   "cell_type": "code",
   "execution_count": 178,
   "metadata": {},
   "outputs": [
    {
     "name": "stdout",
     "output_type": "stream",
     "text": [
      "matriz de confusão: [[ 51 110]\n",
      " [  1  10]]\n",
      "acurácia: 0.3546511627906977\n",
      "f1 score: 0.15267175572519082\n",
      "precisão: 0.08333333333333333\n",
      "recall: 0.9090909090909091\n"
     ]
    }
   ],
   "source": [
    "y_prev4 = previsao(y_prev, t3)        \n",
    "print(f\"matriz de confusão: {confusion_matrix(y_teste, y_prev4)}\")\n",
    "print(f\"acurácia: {accuracy_score(y_teste, y_prev4)}\")\n",
    "print(f\"f1 score: {f1_score(y_teste, y_prev4)}\")\n",
    "print(f\"precisão: {precision_score(y_teste, y_prev4)}\")\n",
    "print(f\"recall: {recall_score(y_teste, y_prev4)}\")"
   ]
  },
  {
   "cell_type": "markdown",
   "metadata": {},
   "source": [
    "Obtendo a matriz de confusão e as métricas de avaliação quando o threshold é igual à 0.90:"
   ]
  },
  {
   "cell_type": "code",
   "execution_count": 179,
   "metadata": {},
   "outputs": [
    {
     "name": "stdout",
     "output_type": "stream",
     "text": [
      "matriz de confusão: [[152   9]\n",
      " [  1  10]]\n",
      "acurácia: 0.9418604651162791\n",
      "f1 score: 0.6666666666666666\n",
      "precisão: 0.5263157894736842\n",
      "recall: 0.9090909090909091\n"
     ]
    }
   ],
   "source": [
    "y_prev5 = previsao(y_prev, t4)        \n",
    "print(f\"matriz de confusão: {confusion_matrix(y_teste, y_prev5)}\")\n",
    "print(f\"acurácia: {accuracy_score(y_teste, y_prev5)}\")\n",
    "print(f\"f1 score: {f1_score(y_teste, y_prev5)}\")\n",
    "print(f\"precisão: {precision_score(y_teste, y_prev5)}\")\n",
    "print(f\"recall: {recall_score(y_teste, y_prev5)}\")"
   ]
  },
  {
   "cell_type": "markdown",
   "metadata": {},
   "source": [
    "Obtendo a matriz de confusão e as métricas de avaliação quando o threshold é igual à 0.80:"
   ]
  },
  {
   "cell_type": "code",
   "execution_count": 180,
   "metadata": {},
   "outputs": [
    {
     "name": "stdout",
     "output_type": "stream",
     "text": [
      "matriz de confusão: [[153   8]\n",
      " [  2   9]]\n",
      "acurácia: 0.9418604651162791\n",
      "f1 score: 0.6428571428571428\n",
      "precisão: 0.5294117647058824\n",
      "recall: 0.8181818181818182\n"
     ]
    }
   ],
   "source": [
    "y_prev6 = previsao(y_prev, t5)        \n",
    "print(f\"matriz de confusão: {confusion_matrix(y_teste, y_prev6)}\")\n",
    "print(f\"acurácia: {accuracy_score(y_teste, y_prev6)}\")\n",
    "print(f\"f1 score: {f1_score(y_teste, y_prev6)}\")\n",
    "print(f\"precisão: {precision_score(y_teste, y_prev6)}\")\n",
    "print(f\"recall: {recall_score(y_teste, y_prev6)}\")"
   ]
  }
 ],
 "metadata": {
  "kernelspec": {
   "display_name": "Python 3.10.6 64-bit",
   "language": "python",
   "name": "python3"
  },
  "language_info": {
   "codemirror_mode": {
    "name": "ipython",
    "version": 3
   },
   "file_extension": ".py",
   "mimetype": "text/x-python",
   "name": "python",
   "nbconvert_exporter": "python",
   "pygments_lexer": "ipython3",
   "version": "3.10.6"
  },
  "orig_nbformat": 4,
  "vscode": {
   "interpreter": {
    "hash": "916dbcbb3f70747c44a77c7bcd40155683ae19c65e1c03b4aa3499c5328201f1"
   }
  }
 },
 "nbformat": 4,
 "nbformat_minor": 2
}
